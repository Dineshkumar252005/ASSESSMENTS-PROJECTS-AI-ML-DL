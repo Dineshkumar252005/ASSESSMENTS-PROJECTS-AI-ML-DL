{
  "nbformat": 4,
  "nbformat_minor": 0,
  "metadata": {
    "colab": {
      "provenance": []
    },
    "kernelspec": {
      "name": "python3",
      "display_name": "Python 3"
    },
    "language_info": {
      "name": "python"
    }
  },
  "cells": [
    {
      "cell_type": "code",
      "execution_count": 1,
      "metadata": {
        "id": "3bg2973-q0QY"
      },
      "outputs": [],
      "source": [
        "import numpy as np\n"
      ]
    },
    {
      "cell_type": "code",
      "source": [
        "def mark_duplicates(ids):\n",
        "    seen = set()\n",
        "    result = []\n",
        "    for id in ids:\n",
        "        if id in seen:\n",
        "            result.append(True)\n",
        "        else:\n",
        "            result.append(False)\n",
        "            seen.add(id)\n",
        "    return np.array(result)\n"
      ],
      "metadata": {
        "id": "IyvNKWO7z9Nn"
      },
      "execution_count": 2,
      "outputs": []
    },
    {
      "cell_type": "code",
      "source": [
        "input_line = input(\"Enter student IDs separated by space: \")"
      ],
      "metadata": {
        "colab": {
          "base_uri": "https://localhost:8080/"
        },
        "id": "UgM6u6xI0COc",
        "outputId": "6f15d356-4b04-4a45-f6a8-fd714e220553"
      },
      "execution_count": 3,
      "outputs": [
        {
          "name": "stdout",
          "output_type": "stream",
          "text": [
            "Enter student IDs separated by space: 1 0 0 3 0 2 4 2 2 2\n"
          ]
        }
      ]
    },
    {
      "cell_type": "code",
      "source": [
        "ids = list(map(int, input_line.strip().split()))\n"
      ],
      "metadata": {
        "id": "iljt0jKU0IBt"
      },
      "execution_count": 4,
      "outputs": []
    },
    {
      "cell_type": "code",
      "source": [
        "output = mark_duplicates(ids)\n"
      ],
      "metadata": {
        "id": "zM7NVI5P0MDA"
      },
      "execution_count": 5,
      "outputs": []
    },
    {
      "cell_type": "code",
      "source": [
        "print(output)"
      ],
      "metadata": {
        "colab": {
          "base_uri": "https://localhost:8080/"
        },
        "id": "E8lRYmkk0Pog",
        "outputId": "c8b66475-1966-460a-dde3-3b897eb99788"
      },
      "execution_count": 6,
      "outputs": [
        {
          "output_type": "stream",
          "name": "stdout",
          "text": [
            "[False False  True False  True False False  True  True  True]\n"
          ]
        }
      ]
    }
  ]
}